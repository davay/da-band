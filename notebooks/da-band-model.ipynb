{
 "cells": [
  {
   "cell_type": "code",
   "execution_count": 1,
   "metadata": {},
   "outputs": [
    {
     "ename": "ModuleNotFoundError",
     "evalue": "No module named 'pandas'",
     "output_type": "error",
     "traceback": [
      "\u001b[0;31m---------------------------------------------------------------------------\u001b[0m",
      "\u001b[0;31mModuleNotFoundError\u001b[0m                       Traceback (most recent call last)",
      "Cell \u001b[0;32mIn[1], line 2\u001b[0m\n\u001b[1;32m      1\u001b[0m \u001b[38;5;28;01mimport\u001b[39;00m \u001b[38;5;21;01mos\u001b[39;00m\n\u001b[0;32m----> 2\u001b[0m \u001b[38;5;28;01mimport\u001b[39;00m \u001b[38;5;21;01mpandas\u001b[39;00m \u001b[38;5;28;01mas\u001b[39;00m \u001b[38;5;21;01mpd\u001b[39;00m\n\u001b[1;32m      3\u001b[0m \u001b[38;5;28;01mimport\u001b[39;00m \u001b[38;5;21;01mnumpy\u001b[39;00m \u001b[38;5;28;01mas\u001b[39;00m \u001b[38;5;21;01mnp\u001b[39;00m\n\u001b[1;32m      4\u001b[0m \u001b[38;5;28;01mimport\u001b[39;00m \u001b[38;5;21;01mtorch\u001b[39;00m\n",
      "\u001b[0;31mModuleNotFoundError\u001b[0m: No module named 'pandas'"
     ]
    }
   ],
   "source": [
    "import os\n",
    "import pandas as pd\n",
    "import numpy as np\n",
    "import torch\n",
    "import torch.nn as nn\n",
    "import torch.optim as optim\n",
    "import coremltools as ct\n",
    "from sklearn.model_selection import train_test_split\n",
    "from sklearn.preprocessing import StandardScaler"
   ]
  },
  {
   "cell_type": "markdown",
   "metadata": {},
   "source": [
    "Load both new CSV file and old CSV file. I will make sure the app send csv files with equal number of rows  \n",
    "and making sure the first column is label"
   ]
  },
  {
   "cell_type": "code",
   "execution_count": null,
   "metadata": {},
   "outputs": [],
   "source": [
    "def load_and_preprocess_data(new_csv_file, old_files_directory):\n",
    "    new_data = pd.read_csv(new_csv_file)\n",
    "    new_labels = new_data.iloc[:, 0].values\n",
    "    new_features = new_data.iloc[:, 1:].values\n",
    "\n",
    "    all_features = [new_features]\n",
    "    all_labels = [new_labels]\n",
    "\n",
    "    for file in os.listdir(old_files_directory):\n",
    "        if file.endswith(\".csv\"):\n",
    "            old_data = pd.read_csv(os.path.join(old_files_directory, file))\n",
    "            all_labels.append(old_data.iloc[:, 0].values)\n",
    "            all_features.append(old_data.iloc[:, 1:].values)\n",
    "\n",
    "    combined_features = np.vstack(all_features)\n",
    "    combined_labels = np.hstack(all_labels)\n",
    "\n",
    "# Not sure if the data is already normalized, but I'll normalize it just in case\n",
    "    scaler = StandardScaler()\n",
    "    combined_features = scaler.fit_transform(combined_features)\n",
    "\n",
    "    return combined_features, combined_labels"
   ]
  },
  {
   "cell_type": "markdown",
   "metadata": {},
   "source": [
    "Preprocess data (We should need an inpute process in case some data is missing) etc."
   ]
  },
  {
   "cell_type": "markdown",
   "metadata": {},
   "source": [
    "I'm using Backward Propagation neural network. https://www.geeksforgeeks.org/backpropagation-in-neural-network/"
   ]
  },
  {
   "cell_type": "code",
   "execution_count": null,
   "metadata": {},
   "outputs": [],
   "source": [
    "def main(new_csv_file, old_files_directory):\n",
    "    features, labels = load_and_preprocess_data(new_csv_file, old_files_directory)\n",
    "    # I will make sure the labels are integers before sending them to the server, just in case here.\n",
    "    labels = labels.astype(int)\n",
    "\n",
    "    X_train, X_test, y_train, y_test = train_test_split(features, labels, test_size=0.25, random_state=69)\n",
    "\n",
    "    X_train = torch.tensor(X_train, dtype=torch.float32)\n",
    "    X_test = torch.tensor(X_test, dtype=torch.float32)\n",
    "    y_train = torch.tensor(y_train, dtype=torch.long)\n",
    "    y_test = torch.tensor(y_test, dtype=torch.long)\n",
    "\n",
    "    input_size = X_train.shape[1]\n",
    "    output_size = len(np.unique(labels))\n",
    "\n",
    "    model = nn.Sequential(\n",
    "        nn.Linear(input_size, 128),\n",
    "        nn.ReLU(),\n",
    "        nn.Linear(128, 64),\n",
    "        nn.ReLU(),\n",
    "        nn.Linear(64, output_size)\n",
    "    )\n",
    "\n",
    "    criterion = nn.CrossEntropyLoss()\n",
    "    optimizer = optim.SGD(model.parameters(), lr=0.01, momentum=0.9)\n",
    "\n",
    "    num_epochs = 69\n",
    "    for epoch in range(num_epochs):\n",
    "        outputs = model(X_train)\n",
    "        loss = criterion(outputs, y_train)\n",
    "\n",
    "        optimizer.zero_grad()\n",
    "        loss.backward()\n",
    "        optimizer.step()\n",
    "\n",
    "    with torch.no_grad():\n",
    "        y_pred = model(X_test)\n",
    "        y_pred_classes = torch.argmax(y_pred, axis=1)\n",
    "        acc = (y_pred_classes == y_test).float().mean()\n",
    "        # We dont need this in actual deployment\n",
    "        print(f\"Test Accuracy: {acc:.4f}\")\n",
    "\n",
    "    # Below is how to send the model to CoreML, havent figure out yet"
   ]
  }
 ],
 "metadata": {
  "kernelspec": {
   "display_name": "da-band",
   "language": "python",
   "name": "python3"
  },
  "language_info": {
   "codemirror_mode": {
    "name": "ipython",
    "version": 3
   },
   "file_extension": ".py",
   "mimetype": "text/x-python",
   "name": "python",
   "nbconvert_exporter": "python",
   "pygments_lexer": "ipython3",
   "version": "3.12.8"
  }
 },
 "nbformat": 4,
 "nbformat_minor": 2
}
